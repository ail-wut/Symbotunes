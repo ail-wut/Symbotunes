{
 "cells": [
  {
   "cell_type": "code",
   "execution_count": 37,
   "metadata": {},
   "outputs": [],
   "source": [
    "from omegaconf import OmegaConf\n",
    "\n",
    "config_path = 'models/folk_rnn/config.yaml'\n"
   ]
  },
  {
   "cell_type": "code",
   "execution_count": 38,
   "metadata": {},
   "outputs": [
    {
     "data": {
      "text/plain": [
       "{'model': {'model_type': 'folk-rnn', 'params': {'vocab_size': 135, 'num_layers': 3, 'lstm_size': 512, 'dropout': 0.5, 'embedding_size': None, 'lr': 0.003, 'lr_decay': 0.97, 'lr_decay_start': 20, 'max_sequence_length': 100}}, 'dataloaders': {'validation': {'name': 'folk-rnn', 'root': '_data', 'split': 'test', 'download': True, 'data_type': 'tokenized_ABC', 'transforms': [{'folk_rnn': {'sequence_size': 40}}], 'batch_size': 64, 'num_workers': 16}, 'train': [{'dataset': {'name': 'folk-rnn', 'root': '_data', 'split': 'train', 'download': True, 'data_type': 'tokenized_ABC', 'transforms': [{'folk_rnn': {'sequence_size': 40}}], 'batch_size': 64, 'num_workers': 16}}]}, 'lightning': {'trainer': {'benchmark': True, 'max_steps': 100000}}, 'callbacks': [{'checkpoint_every_n_steps': {'save_step_frequency': 1000, 'prefix': 'N-Step-Checkpoint', 'use_modelcheckpoint_filename': False}}]}"
      ]
     },
     "execution_count": 38,
     "metadata": {},
     "output_type": "execute_result"
    }
   ],
   "source": [
    "config = OmegaConf.load(config_path)\n",
    "config"
   ]
  },
  {
   "cell_type": "code",
   "execution_count": 39,
   "metadata": {},
   "outputs": [
    {
     "data": {
      "text/plain": [
       "{'trainer': {'benchmark': True, 'max_steps': 100000}}"
      ]
     },
     "execution_count": 39,
     "metadata": {},
     "output_type": "execute_result"
    }
   ],
   "source": [
    "lightning_config = config.pop(\"lightning\", OmegaConf.create())\n",
    "lightning_config"
   ]
  },
  {
   "cell_type": "code",
   "execution_count": 40,
   "metadata": {},
   "outputs": [
    {
     "data": {
      "text/plain": [
       "{'trainer': {'benchmark': True, 'max_steps': 100000}}"
      ]
     },
     "execution_count": 40,
     "metadata": {},
     "output_type": "execute_result"
    }
   ],
   "source": [
    "trainer_config = lightning_config.get(\"trainer\", OmegaConf.create())\n",
    "trainer_opt = OmegaConf.to_container(trainer_config)\n",
    "lightning_config.trainer = trainer_config\n",
    "lightning_config"
   ]
  },
  {
   "cell_type": "code",
   "execution_count": 41,
   "metadata": {},
   "outputs": [
    {
     "name": "stdout",
     "output_type": "stream",
     "text": [
      "{'validation': {'name': 'folk-rnn', 'root': '_data', 'split': 'test', 'download': True, 'data_type': 'tokenized_ABC', 'transforms': [{'folk_rnn': {'sequence_size': 40}}], 'batch_size': 64, 'num_workers': 16}, 'train': [{'dataset': {'name': 'folk-rnn', 'root': '_data', 'split': 'train', 'download': True, 'data_type': 'tokenized_ABC', 'transforms': [{'folk_rnn': {'sequence_size': 40}}], 'batch_size': 64, 'num_workers': 16}}]}\n"
     ]
    }
   ],
   "source": [
    "dl_config_orig = config.pop(\"dataloaders\")  # type: ignore[arg-type]\n",
    "dl_config = OmegaConf.to_container(dl_config_orig, resolve=True)\n",
    "\n",
    "# print(dl_config_orig)\n",
    "print(dl_config)"
   ]
  },
  {
   "cell_type": "code",
   "execution_count": 42,
   "metadata": {},
   "outputs": [
    {
     "data": {
      "text/plain": [
       "[{'dataset': {'name': 'folk-rnn',\n",
       "   'root': '_data',\n",
       "   'split': 'train',\n",
       "   'download': True,\n",
       "   'data_type': 'tokenized_ABC',\n",
       "   'transforms': [{'folk_rnn': {'sequence_size': 40}}],\n",
       "   'batch_size': 64,\n",
       "   'num_workers': 16}}]"
      ]
     },
     "execution_count": 42,
     "metadata": {},
     "output_type": "execute_result"
    }
   ],
   "source": [
    "train = dl_config[\"train\"]\n",
    "train"
   ]
  },
  {
   "cell_type": "code",
   "execution_count": 44,
   "metadata": {},
   "outputs": [
    {
     "name": "stdout",
     "output_type": "stream",
     "text": [
      "dataset\n",
      "{'name': 'folk-rnn', 'root': '_data', 'split': 'train', 'download': True, 'data_type': 'tokenized_ABC', 'transforms': [{'folk_rnn': {'sequence_size': 40}}], 'batch_size': 64, 'num_workers': 16}\n"
     ]
    }
   ],
   "source": [
    "for item in train:\n",
    "    key, kwargs = next(iter(item.items()))\n",
    "    match key:\n",
    "        case \"dataset\":\n",
    "            print(key)\n",
    "            print(kwargs)"
   ]
  },
  {
   "cell_type": "code",
   "execution_count": 46,
   "metadata": {},
   "outputs": [],
   "source": [
    "kwargs = {\n",
    "    'root': '_data', \n",
    "    'split': 'train', \n",
    "    'download': True, \n",
    "    'data_type': 'tokenized_ABC', \n",
    "    'batch_size': 64, \n",
    "    'num_workers': 16\n",
    "}"
   ]
  },
  {
   "cell_type": "code",
   "execution_count": 47,
   "metadata": {},
   "outputs": [],
   "source": [
    "def test_fun(root, split, download, data_type, batch_size, num_workers):\n",
    "    print(f'root: {root}')\n",
    "    print(f'split: {split}')\n",
    "    print(f'download: {download}')\n",
    "    print(f'data_type: {data_type}')\n",
    "    print(f'batch_size: {batch_size}')\n",
    "    print(f'num_workers: {num_workers}')"
   ]
  },
  {
   "cell_type": "code",
   "execution_count": 48,
   "metadata": {},
   "outputs": [
    {
     "name": "stdout",
     "output_type": "stream",
     "text": [
      "root: _data\n",
      "split: train\n",
      "download: True\n",
      "data_type: tokenized_ABC\n",
      "batch_size: 64\n",
      "num_workers: 16\n"
     ]
    }
   ],
   "source": [
    "test_fun(**kwargs)"
   ]
  },
  {
   "cell_type": "code",
   "execution_count": 49,
   "metadata": {},
   "outputs": [],
   "source": [
    "from data import get_dataloaders\n",
    "\n",
    "train_dls, test_dl = get_dataloaders(dl_config)"
   ]
  },
  {
   "cell_type": "code",
   "execution_count": 50,
   "metadata": {},
   "outputs": [
    {
     "data": {
      "text/plain": [
       "<torch.utils.data.dataloader.DataLoader at 0x20a18a1f1f0>"
      ]
     },
     "execution_count": 50,
     "metadata": {},
     "output_type": "execute_result"
    }
   ],
   "source": [
    "train_dls"
   ]
  },
  {
   "cell_type": "code",
   "execution_count": 51,
   "metadata": {},
   "outputs": [],
   "source": [
    "total_items = len(train_dls.dataset)\n",
    "total_items_test = len(test_dl.dataset)"
   ]
  },
  {
   "cell_type": "code",
   "execution_count": 52,
   "metadata": {},
   "outputs": [
    {
     "name": "stdout",
     "output_type": "stream",
     "text": [
      "23636\n"
     ]
    }
   ],
   "source": [
    "print(total_items)"
   ]
  },
  {
   "cell_type": "code",
   "execution_count": 53,
   "metadata": {},
   "outputs": [
    {
     "name": "stdout",
     "output_type": "stream",
     "text": [
      "23636\n"
     ]
    }
   ],
   "source": [
    "print(total_items_test)"
   ]
  },
  {
   "cell_type": "code",
   "execution_count": null,
   "metadata": {},
   "outputs": [],
   "source": []
  }
 ],
 "metadata": {
  "kernelspec": {
   "display_name": "wimu_test",
   "language": "python",
   "name": "python3"
  },
  "language_info": {
   "codemirror_mode": {
    "name": "ipython",
    "version": 3
   },
   "file_extension": ".py",
   "mimetype": "text/x-python",
   "name": "python",
   "nbconvert_exporter": "python",
   "pygments_lexer": "ipython3",
   "version": "3.10.11"
  }
 },
 "nbformat": 4,
 "nbformat_minor": 2
}
